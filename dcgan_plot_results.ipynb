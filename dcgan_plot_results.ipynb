{
 "cells": [
  {
   "cell_type": "markdown",
   "metadata": {
    "Collapsed": "false"
   },
   "source": [
    "## Checking results"
   ]
  },
  {
   "cell_type": "code",
   "execution_count": null,
   "metadata": {
    "Collapsed": "false"
   },
   "outputs": [],
   "source": [
    "%matplotlib inline \n",
    "import matplotlib.pyplot as plt\n",
    "import matplotlib.image as mpimg"
   ]
  },
  {
   "cell_type": "code",
   "execution_count": null,
   "metadata": {
    "Collapsed": "false"
   },
   "outputs": [],
   "source": [
    "folder = 'fG2_fD1_'\n",
    "path = 'logs_dcgan/' + folder + '/'"
   ]
  },
  {
   "cell_type": "code",
   "execution_count": null,
   "metadata": {
    "Collapsed": "false"
   },
   "outputs": [],
   "source": [
    "show_last_batch(path, 'fake')"
   ]
  },
  {
   "cell_type": "code",
   "execution_count": null,
   "metadata": {
    "Collapsed": "false"
   },
   "outputs": [],
   "source": [
    "plt.figure(figsize=(10,5))\n",
    "losses = mpimg.imread(path + 'Losses.png')\n",
    "plt.imshow(losses)\n",
    "plt.show()"
   ]
  },
  {
   "cell_type": "code",
   "execution_count": null,
   "metadata": {
    "Collapsed": "false"
   },
   "outputs": [],
   "source": [
    "import matplotlib.pyplot as plt\n",
    "from utils.animation import animate_results, show_last_batch\n",
    "from IPython.display import HTML\n",
    "\n",
    "HTML(animate_results(path, 'fake').to_jshtml())"
   ]
  },
  {
   "cell_type": "code",
   "execution_count": null,
   "metadata": {
    "Collapsed": "false"
   },
   "outputs": [],
   "source": [
    "folder = 'fG1_fD1_'\n",
    "path = 'logs_dcgan/' + folder + '/'\n",
    "\n",
    "plt.figure(figsize=(20,10))\n",
    "losses = mpimg.imread(path + 'Losses.png')\n",
    "plt.imshow(losses)\n",
    "plt.show()\n",
    "\n",
    "import matplotlib.pyplot as plt\n",
    "from utils.animation import animate_results\n",
    "from IPython.display import HTML\n",
    "\n",
    "HTML(animate_results(path, 'fake').to_jshtml())"
   ]
  },
  {
   "cell_type": "code",
   "execution_count": null,
   "metadata": {
    "Collapsed": "false"
   },
   "outputs": [],
   "source": [
    "folder = 'fG2_fD1_'\n",
    "path = 'logs_dcgan/' + folder + '/'\n",
    "\n",
    "plt.figure(figsize=(10,5))\n",
    "losses = mpimg.imread(path + 'Losses.png')\n",
    "plt.imshow(losses)\n",
    "plt.show()\n",
    "\n",
    "import matplotlib.pyplot as plt\n",
    "from utils.animation import animate_results\n",
    "from IPython.display import HTML\n",
    "\n",
    "HTML(animate_results(path, 'fake').to_jshtml())"
   ]
  },
  {
   "cell_type": "code",
   "execution_count": null,
   "metadata": {
    "Collapsed": "false"
   },
   "outputs": [],
   "source": [
    "folder = 'fG3_fD1_'\n",
    "path = 'logs_dcgan/' + folder + '/'\n",
    "\n",
    "plt.figure(figsize=(10,5))\n",
    "losses = mpimg.imread(path + 'Losses.png')\n",
    "plt.imshow(losses)\n",
    "plt.show()\n",
    "\n",
    "import matplotlib.pyplot as plt\n",
    "from utils.animation import animate_results\n",
    "from IPython.display import HTML\n",
    "\n",
    "HTML(animate_results(path, 'fake').to_jshtml())"
   ]
  },
  {
   "cell_type": "code",
   "execution_count": null,
   "metadata": {
    "Collapsed": "false"
   },
   "outputs": [],
   "source": [
    "folder = 'fG4_fD1_'\n",
    "path = 'logs_dcgan/' + folder + '/'\n",
    "\n",
    "plt.figure(figsize=(10,5))\n",
    "losses = mpimg.imread(path + 'Losses.png')\n",
    "plt.imshow(losses)\n",
    "plt.show()\n",
    "\n",
    "import matplotlib.pyplot as plt\n",
    "from utils.animation import animate_results\n",
    "from IPython.display import HTML\n",
    "\n",
    "HTML(animate_results(path, 'fake').to_jshtml())"
   ]
  },
  {
   "cell_type": "code",
   "execution_count": null,
   "metadata": {
    "Collapsed": "false"
   },
   "outputs": [],
   "source": [
    "folder = 'fG3_fD2_'\n",
    "path = 'logs_dcgan/' + folder + '/'\n",
    "\n",
    "plt.figure(figsize=(10,5))\n",
    "losses = mpimg.imread(path + 'Losses.png')\n",
    "plt.imshow(losses)\n",
    "plt.show()\n",
    "\n",
    "import matplotlib.pyplot as plt\n",
    "from utils.animation import animate_results\n",
    "from IPython.display import HTML\n",
    "\n",
    "HTML(animate_results(path, 'fake').to_jshtml())"
   ]
  },
  {
   "cell_type": "code",
   "execution_count": null,
   "metadata": {
    "Collapsed": "false"
   },
   "outputs": [],
   "source": [
    "folder = 'fG4_fD2_'\n",
    "path = 'logs_dcgan/' + folder + '/'\n",
    "\n",
    "plt.figure(figsize=(10,5))\n",
    "losses = mpimg.imread(path + 'Losses.png')\n",
    "plt.imshow(losses)\n",
    "plt.show()\n",
    "\n",
    "import matplotlib.pyplot as plt\n",
    "from utils.animation import animate_results\n",
    "from IPython.display import HTML\n",
    "\n",
    "HTML(animate_results(path, 'fake').to_jshtml())"
   ]
  },
  {
   "cell_type": "code",
   "execution_count": null,
   "metadata": {
    "Collapsed": "false"
   },
   "outputs": [],
   "source": [
    "folder = 'fG3_fD3_'\n",
    "path = 'logs_dcgan/' + folder + '/'\n",
    "\n",
    "plt.figure(figsize=(10,5))\n",
    "losses = mpimg.imread(path + 'Losses.png')\n",
    "plt.imshow(losses)\n",
    "plt.show()\n",
    "\n",
    "import matplotlib.pyplot as plt\n",
    "from utils.animation import animate_results\n",
    "from IPython.display import HTML\n",
    "\n",
    "HTML(animate_results(path, 'fake').to_jshtml())"
   ]
  },
  {
   "cell_type": "code",
   "execution_count": null,
   "metadata": {
    "Collapsed": "false"
   },
   "outputs": [],
   "source": [
    "folder = 'fG4_fD3_'\n",
    "path = 'logs_dcgan/' + folder + '/'\n",
    "\n",
    "plt.figure(figsize=(10,5))\n",
    "losses = mpimg.imread(path + 'Losses.png')\n",
    "plt.imshow(losses)\n",
    "plt.show()\n",
    "\n",
    "import matplotlib.pyplot as plt\n",
    "from utils.animation import animate_results\n",
    "from IPython.display import HTML\n",
    "\n",
    "HTML(animate_results(path, 'fake').to_jshtml())"
   ]
  },
  {
   "cell_type": "code",
   "execution_count": null,
   "metadata": {
    "Collapsed": "false"
   },
   "outputs": [],
   "source": [
    "folder = 'fG3_fD2_option=B'\n",
    "path = 'logs_dcgan/' + folder + '/'\n",
    "\n",
    "plt.figure(figsize=(10,5))\n",
    "losses = mpimg.imread(path + 'Losses.png')\n",
    "plt.imshow(losses)\n",
    "plt.show()\n",
    "\n",
    "import matplotlib.pyplot as plt\n",
    "from utils.animation import animate_results\n",
    "from IPython.display import HTML\n",
    "\n",
    "HTML(animate_results(path, 'fake').to_jshtml())"
   ]
  },
  {
   "cell_type": "code",
   "execution_count": null,
   "metadata": {
    "Collapsed": "false"
   },
   "outputs": [],
   "source": [
    "folder = 'fG3_fD2_'\n",
    "path = 'logs_dcgan/' + folder + '/'\n",
    "\n",
    "plt.figure(figsize=(10,5))\n",
    "losses = mpimg.imread(path + 'Losses.png')\n",
    "plt.imshow(losses)\n",
    "plt.show()\n",
    "\n",
    "import matplotlib.pyplot as plt\n",
    "from utils.animation import animate_results\n",
    "from IPython.display import HTML\n",
    "\n",
    "HTML(animate_results(path, 'fake').to_jshtml())"
   ]
  },
  {
   "cell_type": "code",
   "execution_count": null,
   "metadata": {
    "Collapsed": "false"
   },
   "outputs": [],
   "source": [
    "folder = 'fG3_fD3_option=B'\n",
    "path = 'logs_dcgan/' + folder + '/'\n",
    "\n",
    "plt.figure(figsize=(10,5))\n",
    "losses = mpimg.imread(path + 'Losses.png')\n",
    "plt.imshow(losses)\n",
    "plt.show()\n",
    "\n",
    "import matplotlib.pyplot as plt\n",
    "from utils.animation import animate_results\n",
    "from IPython.display import HTML\n",
    "\n",
    "HTML(animate_results(path, 'fake').to_jshtml())"
   ]
  },
  {
   "cell_type": "code",
   "execution_count": null,
   "metadata": {
    "Collapsed": "false"
   },
   "outputs": [],
   "source": [
    "folder = 'fG3_fD3_'\n",
    "path = 'logs_dcgan/' + folder + '/'\n",
    "\n",
    "plt.figure(figsize=(10,5))\n",
    "losses = mpimg.imread(path + 'Losses.png')\n",
    "plt.imshow(losses)\n",
    "plt.show()\n",
    "\n",
    "import matplotlib.pyplot as plt\n",
    "from utils.animation import animate_results\n",
    "from IPython.display import HTML\n",
    "\n",
    "HTML(animate_results(path, 'fake').to_jshtml())"
   ]
  },
  {
   "cell_type": "code",
   "execution_count": null,
   "metadata": {
    "Collapsed": "false"
   },
   "outputs": [],
   "source": [
    "folder = 'fG4_fD4_'\n",
    "path = 'logs_dcgan/' + folder + '/'\n",
    "\n",
    "plt.figure(figsize=(10,5))\n",
    "losses = mpimg.imread(path + 'Losses.png')\n",
    "plt.imshow(losses)\n",
    "plt.show()\n",
    "\n",
    "import matplotlib.pyplot as plt\n",
    "from utils.animation import animate_results\n",
    "from IPython.display import HTML\n",
    "\n",
    "HTML(animate_results(path, 'fake').to_jshtml())"
   ]
  },
  {
   "cell_type": "code",
   "execution_count": null,
   "metadata": {
    "Collapsed": "false"
   },
   "outputs": [],
   "source": [
    "folder = 'fG2_fD4_'\n",
    "path = 'logs_dcgan/' + folder + '/'\n",
    "\n",
    "plt.figure(figsize=(10,5))\n",
    "losses = mpimg.imread(path + 'Losses.png')\n",
    "plt.imshow(losses)\n",
    "plt.show()\n",
    "\n",
    "import matplotlib.pyplot as plt\n",
    "from utils.animation import animate_results\n",
    "from IPython.display import HTML\n",
    "\n",
    "HTML(animate_results(path, 'fake').to_jshtml())"
   ]
  },
  {
   "cell_type": "code",
   "execution_count": null,
   "metadata": {
    "Collapsed": "false"
   },
   "outputs": [],
   "source": [
    "folder = 'fG3_fD2_'\n",
    "path = 'logs_dcgan/' + folder + '/'\n",
    "\n",
    "plt.figure(figsize=(10,5))\n",
    "losses = mpimg.imread(path + 'Losses.png')\n",
    "plt.imshow(losses)\n",
    "plt.show()\n",
    "\n",
    "import matplotlib.pyplot as plt\n",
    "from utils.animation import animate_results\n",
    "from IPython.display import HTML\n",
    "\n",
    "HTML(animate_results(path, 'fake').to_jshtml())"
   ]
  },
  {
   "cell_type": "code",
   "execution_count": null,
   "metadata": {
    "Collapsed": "false"
   },
   "outputs": [],
   "source": [
    "folder = 'fG3_fD2_'\n",
    "path = 'logs_dcgan/' + folder + '/'\n",
    "\n",
    "plt.figure(figsize=(10,5))\n",
    "losses = mpimg.imread(path + 'Losses.png')\n",
    "plt.imshow(losses)\n",
    "plt.show()\n",
    "\n",
    "import matplotlib.pyplot as plt\n",
    "from utils.animation import animate_results\n",
    "from IPython.display import HTML\n",
    "\n",
    "HTML(animate_results(path, 'fake').to_jshtml())"
   ]
  },
  {
   "cell_type": "code",
   "execution_count": null,
   "metadata": {
    "Collapsed": "false"
   },
   "outputs": [],
   "source": []
  },
  {
   "cell_type": "code",
   "execution_count": null,
   "metadata": {
    "Collapsed": "false"
   },
   "outputs": [],
   "source": []
  },
  {
   "cell_type": "code",
   "execution_count": null,
   "metadata": {
    "Collapsed": "false"
   },
   "outputs": [],
   "source": []
  },
  {
   "cell_type": "code",
   "execution_count": null,
   "metadata": {
    "Collapsed": "false"
   },
   "outputs": [],
   "source": [
    "folder = 'fG1_D1_'\n",
    "path = 'logs_dcgan/' + folder + '/'\n",
    "\n",
    "plt.figure(figsize=(10,5))\n",
    "losses = mpimg.imread(path + 'Losses.png')\n",
    "plt.imshow(losses)\n",
    "plt.show()\n",
    "\n",
    "import matplotlib.pyplot as plt\n",
    "from utils.animation import animate_results\n",
    "from IPython.display import HTML\n",
    "\n",
    "HTML(animate_results(path, 'fake').to_jshtml())"
   ]
  },
  {
   "cell_type": "code",
   "execution_count": null,
   "metadata": {
    "Collapsed": "false"
   },
   "outputs": [],
   "source": [
    "folder = 'fG2_D1_'\n",
    "path = 'logs_dcgan/' + folder + '/'\n",
    "\n",
    "plt.figure(figsize=(10,5))\n",
    "losses = mpimg.imread(path + 'Losses.png')\n",
    "plt.imshow(losses)\n",
    "plt.show()\n",
    "\n",
    "import matplotlib.pyplot as plt\n",
    "from utils.animation import animate_results\n",
    "from IPython.display import HTML\n",
    "\n",
    "HTML(animate_results(path, 'fake').to_jshtml())"
   ]
  },
  {
   "cell_type": "code",
   "execution_count": null,
   "metadata": {
    "Collapsed": "false"
   },
   "outputs": [],
   "source": [
    "folder = 'fG3_D1_'\n",
    "path = 'logs_dcgan/' + folder + '/'\n",
    "\n",
    "plt.figure(figsize=(10,5))\n",
    "losses = mpimg.imread(path + 'Losses.png')\n",
    "plt.imshow(losses)\n",
    "plt.show()\n",
    "\n",
    "import matplotlib.pyplot as plt\n",
    "from utils.animation import animate_results\n",
    "from IPython.display import HTML\n",
    "\n",
    "HTML(animate_results(path, 'fake').to_jshtml())"
   ]
  },
  {
   "cell_type": "code",
   "execution_count": null,
   "metadata": {
    "Collapsed": "false"
   },
   "outputs": [],
   "source": [
    "folder = 'fG4_D1_'\n",
    "path = 'logs_dcgan/' + folder + '/'\n",
    "\n",
    "# plt.figure(figsize=(10,5))\n",
    "# losses = mpimg.imread(path + 'Losses.png')\n",
    "# plt.imshow(losses)\n",
    "# plt.show()\n",
    "\n",
    "import matplotlib.pyplot as plt\n",
    "from utils.animation import animate_results\n",
    "from IPython.display import HTML\n",
    "\n",
    "HTML(animate_results(path, 'fake').to_jshtml())"
   ]
  },
  {
   "cell_type": "code",
   "execution_count": null,
   "metadata": {
    "Collapsed": "false"
   },
   "outputs": [],
   "source": []
  }
 ],
 "metadata": {
  "kernelspec": {
   "display_name": "Python 3",
   "language": "python",
   "name": "python3"
  },
  "language_info": {
   "codemirror_mode": {
    "name": "ipython",
    "version": 3
   },
   "file_extension": ".py",
   "mimetype": "text/x-python",
   "name": "python",
   "nbconvert_exporter": "python",
   "pygments_lexer": "ipython3",
   "version": "3.6.9"
  }
 },
 "nbformat": 4,
 "nbformat_minor": 4
}
